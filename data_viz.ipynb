{
 "cells": [
  {
   "cell_type": "code",
   "execution_count": null,
   "metadata": {},
   "outputs": [],
   "source": [
    "import sys\n",
    "sys.path.append(\"/Users/yunongliu/Documents/GitHub/IKEA-Manuals-at-Work/src\")\n",
    "import os\n",
    "from IKEAVideo.dataloader.dataset_keyframe import KeyframeDataset\n",
    "\n",
    "annotation_file = \"./data/data.json\"\n",
    "video_dir = \"/Users/yunongliu/Documents/GitHub/ikea-video-cleaning/video\"\n",
    "obj_dir = './data/parts'\n",
    "manual_img_dir = './data/manual_img'\n",
    "pdf_dir = './data/pdfs'\n",
    "\n",
    "dataset = KeyframeDataset(annotation_file, video_dir, transform=None, load_into_mem=False,\n",
    "                            verbose=False, debug=True, obj_dir=obj_dir, manual_img_dir=manual_img_dir, pdf_dir=pdf_dir)"
   ]
  },
  {
   "cell_type": "code",
   "execution_count": null,
   "metadata": {},
   "outputs": [],
   "source": [
    "video_idx = 0  # Index of the video\n",
    "frame_idx = 12  # Index of the frame within the video\n",
    "\n",
    "sample = dataset.__getitem__(video_idx, frame_idx)"
   ]
  },
  {
   "cell_type": "code",
   "execution_count": null,
   "metadata": {},
   "outputs": [],
   "source": [
    "import IKEAVideo.utils.transformations as tra\n",
    "\n",
    "import trimesh\n",
    "import numpy as np\n",
    "mesh_all = sample[0]['meshes'].copy()\n",
    "scene = trimesh.Scene()\n",
    "for mesh in mesh_all:\n",
    "    scene.add_geometry(mesh)\n",
    "scene.show()"
   ]
  },
  {
   "cell_type": "markdown",
   "metadata": {},
   "source": [
    "## Get Object Poses in this frame in .glb format"
   ]
  },
  {
   "cell_type": "code",
   "execution_count": null,
   "metadata": {},
   "outputs": [],
   "source": [
    "\n",
    "mesh_all = sample[0]['meshes']\n",
    "scene = trimesh.Scene()\n",
    "colors = [\n",
    "    '#5A9BD5', '#FF6F61', '#77B77A', '#A67EB1', '#FF89B6', '#FFB07B',\n",
    "    '#C5A3CF', '#FFA8B6', '#A3C9E0', '#FFC89B', '#E58B8B',\n",
    "    '#A3B8D3', '#D4C3E8', '#66B2AA', '#E4A878', '#6882A4', '#D1AEDD', '#E8A4A6',\n",
    "    '#A5DAD7', '#C6424A', '#E1D1F4', '#FFD8DC', '#F4D49B', '#8394A8'\n",
    "]\n",
    "meshes = None\n",
    "print(len(mesh_all))\n",
    "color_index = 0\n",
    "for m, mesh in enumerate(mesh_all):\n",
    "    \n",
    "    # Make the mesh double-sided by duplicating faces with reversed normals\n",
    "    reversed_faces = mesh.faces[:, ::-1]\n",
    "    combined_faces = np.vstack((mesh.faces, reversed_faces))\n",
    "    combined_vertices = np.vstack((mesh.vertices, mesh.vertices))\n",
    "    mesh = trimesh.Trimesh(vertices=combined_vertices, faces=combined_faces)\n",
    "\n",
    "    # Assign color to mesh\n",
    "    color_rgba = trimesh.visual.color.hex_to_rgba(colors[color_index % len(colors)])\n",
    "\n",
    "    mesh.visual.face_colors = np.tile(color_rgba, (mesh.faces.shape[0], 1))\n",
    "    color_index += 1\n",
    "    if meshes is None:\n",
    "        meshes = mesh\n",
    "    else:\n",
    "        meshes = trimesh.util.concatenate(meshes, mesh)\n",
    "\n",
    "# Rotate the mesh\n",
    "\n",
    "scene.add_geometry(meshes)\n",
    "# Export to glb\n",
    "scene.export('scene.glb')\n",
    "scene.show()"
   ]
  }
 ],
 "metadata": {
  "kernelspec": {
   "display_name": "IKEAVideo",
   "language": "python",
   "name": "python3"
  },
  "language_info": {
   "codemirror_mode": {
    "name": "ipython",
    "version": 3
   },
   "file_extension": ".py",
   "mimetype": "text/x-python",
   "name": "python",
   "nbconvert_exporter": "python",
   "pygments_lexer": "ipython3",
   "version": "3.8.19"
  }
 },
 "nbformat": 4,
 "nbformat_minor": 2
}
